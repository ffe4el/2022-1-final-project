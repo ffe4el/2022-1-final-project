{
 "cells": [
  {
   "cell_type": "code",
   "execution_count": 17,
   "metadata": {},
   "outputs": [],
   "source": [
    "# 3_datas_insert.py\n",
    "from openpyxl import Workbook\n",
    "import os ; os.remove(\"wb_subtitle.xlsx\") #os 모듈에서 불러와 remove() 함수로 삭제하며 ;으로 한 줄로 사용\n",
    "\n",
    "\n",
    "\n",
    "wb = Workbook()\n",
    "\n",
    "ws = wb.active # 기본 시트 가져오기 (활성 중인 워크 시트 가져오기)\n"
   ]
  },
  {
   "cell_type": "code",
   "execution_count": 18,
   "metadata": {},
   "outputs": [],
   "source": [
    "# 첫째행 타이틀 적기 예제\n",
    "# 제목 적기\n",
    "sub = ['created_at', 'entry_id', 'temp', 'humid', 'lux', '', 'date', 'SVP', 'VPD']\n",
    "for kwd, j in zip(sub, range(1, len(sub)+1)): #for zip을 이용해서 2번째 행에 순서대로 제목을 적는다.\n",
    "    ws.cell(row=2, column=j+1).value = kwd\n",
    "\n",
    "wb.save(\"wb_subtitle.xlsx\") #저장"
   ]
  }
 ],
 "metadata": {
  "interpreter": {
   "hash": "d1b453b87840e9c08cab7728d02e20caedc1c985ce56a033dc48b15b9411b6a9"
  },
  "kernelspec": {
   "display_name": "Python 3.9.7 ('base')",
   "language": "python",
   "name": "python3"
  },
  "language_info": {
   "codemirror_mode": {
    "name": "ipython",
    "version": 3
   },
   "file_extension": ".py",
   "mimetype": "text/x-python",
   "name": "python",
   "nbconvert_exporter": "python",
   "pygments_lexer": "ipython3",
   "version": "3.9.7"
  },
  "orig_nbformat": 4
 },
 "nbformat": 4,
 "nbformat_minor": 2
}
