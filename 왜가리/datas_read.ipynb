{
 "cells": [
  {
   "cell_type": "code",
   "execution_count": 18,
   "metadata": {},
   "outputs": [],
   "source": [
    "from openpyxl import Workbook\n",
    "\n",
    "wb = Workbook()\n",
    "\n",
    "ws = wb.active\n",
    "\n",
    "# 구구단\n",
    "# - 구구단 단 입력\n",
    "\n",
    "for i in range(1, 6):\n",
    "    ws.cell(row=2, column=i+1).value = f\"{i}단\"\n",
    "\n",
    "# - 내용 입력\n",
    "for row in range(1, 9): \n",
    "    for column in range(1, 6): # 1단부터 5단까지\n",
    "        # 초기화하면서 데이터 입력\n",
    "        c = ws.cell(row=row+2, column=column+1, value=row*column)\n",
    "        # 데이터 수정\n",
    "        c.value=row*column\n",
    "\n",
    "wb.save(\"wb_multiplication.xlsx\")"
   ]
  },
  {
   "cell_type": "code",
   "execution_count": 19,
   "metadata": {},
   "outputs": [],
   "source": [
    "# 4_datas_read.py\n",
    "from openpyxl import load_workbook\n",
    "\n",
    "wb = load_workbook('wb_multiplication.xlsx')\n",
    "ws = wb['Sheet']\n"
   ]
  },
  {
   "cell_type": "code",
   "execution_count": 20,
   "metadata": {},
   "outputs": [],
   "source": [
    "#지난 글에서 ws의 시트 객체에서 ['A1'] 형식으로 덱싱하면 A1 셀을 지칭하여 값을 가져올 수 있었다.\n",
    "#- ['C']처럼 행 번호를 생략하고 열 문자만 작성하면 열에 있는 셀들이 전체 지정된다.\n",
    "#- ['2']처럼 열 문자를 생략하고 행 번호만 작성하면 행에 있는 셀들이 전체 지정된다.\n",
    "#- 각 셀 객체는 지난 글에서 dir() 함수로 살펴본 것처럼 value와 같은 여러 속성과 함수를 지원한다.\n",
    "#밑에 참조"
   ]
  },
  {
   "cell_type": "code",
   "execution_count": 21,
   "metadata": {},
   "outputs": [
    {
     "name": "stdout",
     "output_type": "stream",
     "text": [
      "(<Cell 'Sheet'.C1>, <Cell 'Sheet'.C2>, <Cell 'Sheet'.C3>, <Cell 'Sheet'.C4>, <Cell 'Sheet'.C5>, <Cell 'Sheet'.C6>, <Cell 'Sheet'.C7>, <Cell 'Sheet'.C8>, <Cell 'Sheet'.C9>, <Cell 'Sheet'.C10>)\n",
      "None\n",
      "2단\n",
      "2\n",
      "4\n",
      "6\n",
      "8\n",
      "10\n",
      "12\n",
      "14\n",
      "16\n",
      "(<Cell 'Sheet'.A2>, <Cell 'Sheet'.B2>, <Cell 'Sheet'.C2>, <Cell 'Sheet'.D2>, <Cell 'Sheet'.E2>, <Cell 'Sheet'.F2>)\n",
      "None\n",
      "1단\n",
      "2단\n",
      "3단\n",
      "4단\n",
      "5단\n"
     ]
    }
   ],
   "source": [
    "print(ws[\"C\"]) #열 문자는 대문자로 작성한다.\n",
    "for cell in ws[\"C\"]:\n",
    "    print(cell.value)\n",
    "\n",
    "print(ws[\"2\"])\n",
    "for cell in ws[\"2\"]:\n",
    "    print(cell.value)\n"
   ]
  },
  {
   "cell_type": "code",
   "execution_count": 22,
   "metadata": {},
   "outputs": [],
   "source": [
    "#다음처럼 범위 지정이 가능하다.\n",
    "\n",
    "#특정 범위 접근 : cell_range = sheet['A1':'C2']\n",
    "\n",
    "#특정 행 접근 : sheet[10]\n",
    "\n",
    "#특정 행 범위 접근 : sheet[5:10]\n",
    "\n",
    "#특정 열 접근 : sheet['C']\n",
    "\n",
    "#특정 열 범위 접근 : sheet['C:D']\n",
    "\n",
    "#* 파이썬의 2차원 배열 인덱싱 형식에 따라 : sheet[3][2]와 같이도 가능 (C열 = 3, 2행 =2)"
   ]
  },
  {
   "cell_type": "code",
   "execution_count": 23,
   "metadata": {},
   "outputs": [],
   "source": [
    "#for 반복문으로 데이터를 입력한 것처럼 for문을 사용해 엑셀 시트의 내용을 읽어와보자.\n",
    "\n",
    "#- n단은 리스트컴프리헨션으로 None 값이 아닌 2행 셀 값 전체를 가져와서 띄어쓰기로 구분해 문자열로 묶었다.\n",
    "\n",
    "#- 구구단 내용은 입력을 했을 때 사용했던 것과 마찬가지 형식을 사용했다.\n",
    "\n",
    "#- 내용 출력 시 %3d 및 % 포맷팅을 사용해 띄어쓰기를 맞춰주었다.\n",
    "\n",
    "#밑에 참고"
   ]
  },
  {
   "cell_type": "code",
   "execution_count": 24,
   "metadata": {},
   "outputs": [
    {
     "name": "stdout",
     "output_type": "stream",
     "text": [
      "1단2단3단4단5단\n",
      "  1  2  3  4  5\n",
      "  2  4  6  8 10\n",
      "  3  6  9 12 15\n",
      "  4  8 12 16 20\n",
      "  5 10 15 20 25\n",
      "  6 12 18 24 30\n",
      "  7 14 21 28 35\n",
      "  8 16 24 32 40\n"
     ]
    }
   ],
   "source": [
    "#for 반복문으로 데이터를 입력한 것처럼 for문을 사용해 엑셀 시트의 내용을 읽어와보자.\n",
    "#- n단은 리스트 컴프리헨션으로 None 값이 아닌 2행 셀 값 전체를 가져와서 띄어쓰기로 구분해 문자열로 묶었다.\n",
    "#- 구구단 내용은 입력을 했을 때 사용했던 것과 마찬가지 형식을 사용했다.\n",
    "#- 내용 출력 시 %3d 및 % 포맷팅을 사용해 띄어쓰기를 맞추기.\n",
    "\n",
    "\n",
    "print(\"\".join([cell.value for cell  in ws[\"2\"] if cell.value is not None]))\n",
    "for row in range(1,9):\n",
    "    for column in range(1,6):\n",
    "        c = ws.cell(row=row+2, column=column+1)\n",
    "        print(\"%3d\" %(c.value), end='')\n",
    "    print()"
   ]
  },
  {
   "cell_type": "code",
   "execution_count": 32,
   "metadata": {},
   "outputs": [
    {
     "name": "stdout",
     "output_type": "stream",
     "text": [
      "<Cell 'Sheet'.A1>\n",
      "<Cell 'Sheet'.B1>\n",
      "<Cell 'Sheet'.C1>\n",
      "<Cell 'Sheet'.A2>\n",
      "<Cell 'Sheet'.B2>\n",
      "<Cell 'Sheet'.C2>\n",
      "<Cell 'Sheet'.A3>\n",
      "<Cell 'Sheet'.B3>\n",
      "<Cell 'Sheet'.C3>\n",
      "<Cell 'Sheet'.A4>\n",
      "<Cell 'Sheet'.B4>\n",
      "<Cell 'Sheet'.C4>\n",
      "<Cell 'Sheet'.A5>\n",
      "<Cell 'Sheet'.B5>\n",
      "<Cell 'Sheet'.C5>\n",
      "<Cell 'Sheet'.A6>\n",
      "<Cell 'Sheet'.B6>\n",
      "<Cell 'Sheet'.C6>\n",
      "<Cell 'Sheet'.A7>\n",
      "<Cell 'Sheet'.B7>\n",
      "<Cell 'Sheet'.C7>\n",
      "<Cell 'Sheet'.A8>\n",
      "<Cell 'Sheet'.B8>\n",
      "<Cell 'Sheet'.C8>\n",
      "<Cell 'Sheet'.A9>\n",
      "<Cell 'Sheet'.B9>\n",
      "<Cell 'Sheet'.C9>\n",
      "<Cell 'Sheet'.A10>\n",
      "<Cell 'Sheet'.B10>\n",
      "<Cell 'Sheet'.C10>\n",
      "None\n",
      "None\n",
      "None\n",
      "None\n",
      "1단\n",
      "2단\n",
      "None\n",
      "1\n",
      "2\n",
      "None\n",
      "2\n",
      "4\n",
      "None\n",
      "3\n",
      "6\n",
      "None\n",
      "4\n",
      "8\n",
      "None\n",
      "5\n",
      "10\n",
      "None\n",
      "6\n",
      "12\n",
      "None\n",
      "7\n",
      "14\n",
      "None\n",
      "8\n",
      "16\n"
     ]
    }
   ],
   "source": [
    "#특정 범위 셀 값을 읽어올 때 iter_rows()나 iter_cols() 함수를 사용할 수도 있다.\n",
    "#iter_rows와 iter_cols는 반복 가능한 객체(iterable)를 반환하여 반복문으로 열 객체를 가져와 사용한다.\n",
    "\n",
    "for row in ws.iter_rows(min_row=1, max_col=3):\n",
    "    for cell in row:\n",
    "        print(cell)\n",
    "        \n",
    "# values_onely를 이용하여 값만 확인할 수 있다.\n",
    "for row in ws.iter_rows(min_row=1, max_col=3, values_only=True):\n",
    "    for cell in row:\n",
    "        print(cell)\n",
    "\n",
    "# =>이건 그냥 밑에내용 참고용 예시\n"
   ]
  },
  {
   "cell_type": "code",
   "execution_count": 33,
   "metadata": {},
   "outputs": [
    {
     "name": "stdout",
     "output_type": "stream",
     "text": [
      "1단2단3단4단5단\n",
      "12345\n",
      "246810\n",
      "3691215\n",
      "48121620\n",
      "510152025\n",
      "612182430\n",
      "714212835\n"
     ]
    }
   ],
   "source": [
    "for row in ws.iter_rows(min_row=2, max_row=9, min_col=2, max_col=6):\n",
    "    for cell in row:\n",
    "        print(cell.value, end='')\n",
    "    print()\n",
    "    "
   ]
  }
 ],
 "metadata": {
  "interpreter": {
   "hash": "d1b453b87840e9c08cab7728d02e20caedc1c985ce56a033dc48b15b9411b6a9"
  },
  "kernelspec": {
   "display_name": "Python 3.9.7 ('base')",
   "language": "python",
   "name": "python3"
  },
  "language_info": {
   "codemirror_mode": {
    "name": "ipython",
    "version": 3
   },
   "file_extension": ".py",
   "mimetype": "text/x-python",
   "name": "python",
   "nbconvert_exporter": "python",
   "pygments_lexer": "ipython3",
   "version": "3.9.7"
  },
  "orig_nbformat": 4
 },
 "nbformat": 4,
 "nbformat_minor": 2
}
