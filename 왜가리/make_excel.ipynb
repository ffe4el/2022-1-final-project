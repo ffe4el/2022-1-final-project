{
 "cells": [
  {
   "cell_type": "code",
   "execution_count": 1,
   "metadata": {},
   "outputs": [],
   "source": [
    "from openpyxl import Workbook\n",
    "wb = Workbook()\n",
    "\n",
    "ws = wb.active"
   ]
  },
  {
   "cell_type": "code",
   "execution_count": 2,
   "metadata": {},
   "outputs": [
    {
     "name": "stdout",
     "output_type": "stream",
     "text": [
      "['시트1', 'Sheet', '시트2', '시트0']\n"
     ]
    }
   ],
   "source": [
    "ws1 = wb.create_sheet(\"시트0\") # 가장 뒤에 시트 생성 (기본값)\n",
    "ws2 = wb.create_sheet(\"시트1\", 0) # 가장 앞에 시트 생성 \n",
    "ws3 = wb.create_sheet(\"시트2\", -1) # 끝에서 두 번째에 시트 생성\n",
    "\n",
    "print(wb.sheetnames)"
   ]
  },
  {
   "cell_type": "code",
   "execution_count": 6,
   "metadata": {},
   "outputs": [],
   "source": [
    "wb.save('xb.xlsx')"
   ]
  }
 ],
 "metadata": {
  "interpreter": {
   "hash": "d1b453b87840e9c08cab7728d02e20caedc1c985ce56a033dc48b15b9411b6a9"
  },
  "kernelspec": {
   "display_name": "Python 3.9.7 ('base')",
   "language": "python",
   "name": "python3"
  },
  "language_info": {
   "codemirror_mode": {
    "name": "ipython",
    "version": 3
   },
   "file_extension": ".py",
   "mimetype": "text/x-python",
   "name": "python",
   "nbconvert_exporter": "python",
   "pygments_lexer": "ipython3",
   "version": "3.9.7"
  },
  "orig_nbformat": 4
 },
 "nbformat": 4,
 "nbformat_minor": 2
}
